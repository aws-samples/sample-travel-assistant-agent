{
 "cells": [
  {
   "cell_type": "markdown",
   "id": "79f1bf60",
   "metadata": {},
   "source": [
    "# Demo Travel Assistant"
   ]
  },
  {
   "cell_type": "code",
   "execution_count": null,
   "id": "0c45c481",
   "metadata": {},
   "outputs": [],
   "source": [
    "# Set up AWS profile and credentials\n",
    "import boto3\n",
    "import os\n",
    "\n",
    "boto3.setup_default_session(profile_name='default', region_name='us-east-1')"
   ]
  },
  {
   "cell_type": "code",
   "execution_count": null,
   "id": "25cacad1",
   "metadata": {},
   "outputs": [],
   "source": [
    "# additional environment configurations\n",
    "\n",
    "# load .env file\n",
    "from dotenv import load_dotenv\n",
    "load_dotenv(\"../../.env\")\n",
    "\n",
    "# set the required environment vairable for the function\n",
    "os.environ[\"USER_TABLE_NAME\"] = \"\"\n",
    "os.environ[\"WISHLIST_TABLE_NAME\"] = \"\"\n",
    "os.environ[\"CHAT_TABLE_NAME\"] = \"\"\n",
    "os.environ[\"KNOWLEDGE_BASE_ID\"] = \"\""
   ]
  },
  {
   "cell_type": "code",
   "execution_count": null,
   "id": "ba62b3b8",
   "metadata": {},
   "outputs": [],
   "source": [
    "# To use the PAAPI SDK for shopping tools:\n",
    "# 1. Download the PAAPI SDK, and unzip into the specified folder\n",
    "# 2. Set USE_PAAPI=true in the .env file\n",
    "\n",
    "# Make sure PAAPI is enabled\n",
    "os.environ['USE_PAAPI']"
   ]
  },
  {
   "cell_type": "code",
   "execution_count": null,
   "id": "82ad61f8",
   "metadata": {},
   "outputs": [],
   "source": [
    "import os\n",
    "\n",
    "# set the current path to agents/travel-agent-langgraph\n",
    "os.chdir(\"../travel-agent-langgraph\")\n",
    "\n",
    "from agent import TravelAgent\n",
    "from IPython.display import Markdown\n",
    "\n",
    "# initialize the agent\n",
    "def agent_invoke(prompt, user_id=\"default_user\"):\n",
    "    return TravelAgent().run(prompt, user_id)['promptResponse']"
   ]
  },
  {
   "cell_type": "code",
   "execution_count": null,
   "id": "9b93c6ac",
   "metadata": {},
   "outputs": [],
   "source": [
    "#0 - intro_general\n",
    "prompt = \"Hi! What can you do?\"\n",
    "Markdown(agent_invoke(prompt))"
   ]
  },
  {
   "cell_type": "code",
   "execution_count": null,
   "id": "55dfeb74",
   "metadata": {},
   "outputs": [],
   "source": [
    "#1 - internet_search_tool\n",
    "prompt = \"search for event in NY during my visit\"\n",
    "Markdown(agent_invoke(prompt))"
   ]
  },
  {
   "cell_type": "code",
   "execution_count": null,
   "id": "0e23b57b",
   "metadata": {},
   "outputs": [],
   "source": [
    "#2 - amazon_facts\n",
    "prompt = \"What is Amazon Prime?\"\n",
    "Markdown(agent_invoke(prompt))"
   ]
  },
  {
   "cell_type": "code",
   "execution_count": null,
   "id": "d4338620",
   "metadata": {},
   "outputs": [],
   "source": [
    "#3 - trip_recommendation\n",
    "prompt = \"What should I do in Barcelona?\"\n",
    "Markdown(agent_invoke(prompt))"
   ]
  },
  {
   "cell_type": "code",
   "execution_count": null,
   "id": "1b07f94d",
   "metadata": {},
   "outputs": [],
   "source": [
    "#4 - create_packing_list\n",
    "prompt = \"What should I pack for my barcelona trip?\"\n",
    "Markdown(agent_invoke(prompt))\n"
   ]
  },
  {
   "cell_type": "code",
   "execution_count": null,
   "id": "3027d103",
   "metadata": {},
   "outputs": [],
   "source": [
    "#5 - weather_forecast_tool\n",
    "prompt = \"What's the weather like in Miami?\"\n",
    "Markdown(agent_invoke(prompt))"
   ]
  },
  {
   "cell_type": "code",
   "execution_count": null,
   "id": "312e7976",
   "metadata": {},
   "outputs": [],
   "source": [
    "#6 - conversation_summary\n",
    "prompt = \"Can you summarize our chat?\"\n",
    "Markdown(agent_invoke(prompt))"
   ]
  },
  {
   "cell_type": "code",
   "execution_count": null,
   "id": "11087850",
   "metadata": {},
   "outputs": [],
   "source": [
    "#7 - order_cart\n",
    "prompt = \"I'd like to order my cart now\"\n",
    "Markdown(agent_invoke(prompt))"
   ]
  },
  {
   "cell_type": "code",
   "execution_count": null,
   "id": "5c6c5ddd",
   "metadata": {},
   "outputs": [],
   "source": [
    "#8 - trip_product_search\n",
    "prompt = \"Can you find me a good travel pillow?\"\n",
    "Markdown(agent_invoke(prompt))"
   ]
  },
  {
   "cell_type": "code",
   "execution_count": null,
   "id": "6801e9b7",
   "metadata": {},
   "outputs": [],
   "source": [
    "#9 - remove_cart_items\n",
    "prompt = \"Remove everything from my cart\"\n",
    "Markdown(agent_invoke(prompt))"
   ]
  },
  {
   "cell_type": "code",
   "execution_count": null,
   "id": "b93657d9",
   "metadata": {},
   "outputs": [],
   "source": [
    "#10 - chat_history_add_cart\n",
    "prompt = \"Add the napfun Neck Pillow\"\n",
    "Markdown(agent_invoke(prompt))"
   ]
  },
  {
   "cell_type": "code",
   "execution_count": null,
   "id": "2a18ddf2",
   "metadata": {},
   "outputs": [],
   "source": [
    "#11 - user_summary\n",
    "prompt = \"What trips do I have planned?\"\n",
    "Markdown(agent_invoke(prompt))"
   ]
  },
  {
   "cell_type": "code",
   "execution_count": null,
   "id": "fa436cfb",
   "metadata": {},
   "outputs": [],
   "source": [
    "#12 - grocery_list\n",
    "prompt = \"Help me make a grocery list\"\n",
    "Markdown(agent_invoke(prompt))"
   ]
  }
 ],
 "metadata": {
  "kernelspec": {
   "display_name": ".venv",
   "language": "python",
   "name": "python3"
  },
  "language_info": {
   "codemirror_mode": {
    "name": "ipython",
    "version": 3
   },
   "file_extension": ".py",
   "mimetype": "text/x-python",
   "name": "python",
   "nbconvert_exporter": "python",
   "pygments_lexer": "ipython3",
   "version": "3.12.11"
  }
 },
 "nbformat": 4,
 "nbformat_minor": 5
}
